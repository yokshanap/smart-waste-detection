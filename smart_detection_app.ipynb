{
  "nbformat": 4,
  "nbformat_minor": 0,
  "metadata": {
    "colab": {
      "private_outputs": true,
      "provenance": []
    },
    "kernelspec": {
      "name": "python3",
      "display_name": "Python 3"
    },
    "language_info": {
      "name": "python"
    }
  },
  "cells": [
    {
      "cell_type": "code",
      "source": [
        "!pip install streamlit roboflow supervision opencv-python-headless pyngrok\n"
      ],
      "metadata": {
        "id": "8-r1p3LXfFfq"
      },
      "execution_count": null,
      "outputs": []
    },
    {
      "cell_type": "code",
      "source": [
        "code = '''\n",
        "import streamlit as st\n",
        "from roboflow import Roboflow\n",
        "import supervision as sv\n",
        "import numpy as np\n",
        "import cv2\n",
        "import tempfile\n",
        "import os\n",
        "\n",
        "st.set_page_config(page_title=\"Smart Waste Detection\", layout=\"centered\")\n",
        "st.title(\"♻️ Smart Waste Detection App\")\n",
        "st.write(\"Upload an image to detect waste objects using Roboflow.\")\n",
        "\n",
        "uploaded_file = st.file_uploader(\"📤 Upload Image\", type=[\"jpg\", \"jpeg\", \"png\"])\n",
        "\n",
        "if uploaded_file:\n",
        "    with tempfile.NamedTemporaryFile(delete=False, suffix=\".jpg\") as temp_file:\n",
        "        temp_file.write(uploaded_file.read())\n",
        "        img_path = temp_file.name\n",
        "\n",
        "    st.image(img_path, caption=\"Uploaded Image\", use_column_width=True)\n",
        "\n",
        "    rf = Roboflow(api_key=\"GofFNfqAyIEcG9LAlOV8\")\n",
        "    model = rf.workspace().project(\"smart-waste-management-h5yif-mwcpw\").version(1).model\n",
        "\n",
        "    with st.spinner(\"🔍 Detecting...\"):\n",
        "        results = model.predict(img_path, confidence=40, overlap=30).json()\n",
        "        predictions = results[\"predictions\"]\n",
        "\n",
        "    xyxy, confidence, labels, class_ids = [], [], [], []\n",
        "\n",
        "    for pred in predictions:\n",
        "        w, h = pred[\"width\"], pred[\"height\"]\n",
        "        x, y = pred[\"x\"], pred[\"y\"]\n",
        "        x1, y1 = x - w / 2, y - h / 2\n",
        "        x2, y2 = x + w / 2, y + h / 2\n",
        "\n",
        "        xyxy.append([x1, y1, x2, y2])\n",
        "        confidence.append(pred[\"confidence\"])\n",
        "        labels.append(f\"{pred['class']} ({pred['confidence']:.2f})\")\n",
        "        class_ids.append(0)\n",
        "\n",
        "    detections = sv.Detections(\n",
        "        xyxy=np.array(xyxy),\n",
        "        confidence=np.array(confidence),\n",
        "        class_id=np.array(class_ids)\n",
        "    )\n",
        "\n",
        "    image = cv2.imread(img_path)\n",
        "    image_rgb = cv2.cvtColor(image, cv2.COLOR_BGR2RGB)\n",
        "\n",
        "    box_annotator = sv.BoxAnnotator()\n",
        "    label_annotator = sv.LabelAnnotator()\n",
        "\n",
        "    annotated = box_annotator.annotate(scene=image_rgb.copy(), detections=detections)\n",
        "    annotated = label_annotator.annotate(scene=annotated, detections=detections, labels=labels)\n",
        "\n",
        "    st.image(annotated, caption=\"🧾 Detected Waste\", use_column_width=True)\n",
        "\n",
        "    output_path = os.path.join(tempfile.gettempdir(), \"output.jpg\")\n",
        "    cv2.imwrite(output_path, cv2.cvtColor(annotated, cv2.COLOR_RGB2BGR))\n",
        "    with open(output_path, \"rb\") as file:\n",
        "        st.download_button(\"⬇️ Download Annotated Image\", file, \"output.jpg\", mime=\"image/jpeg\")\n",
        "\n",
        "    st.markdown(\"### 📊 Detected Classes\")\n",
        "    if predictions:\n",
        "        detected_classes = set(pred[\"class\"] for pred in predictions)\n",
        "        for cls in detected_classes:\n",
        "            st.markdown(f\"- ✅ **{cls}**\")\n",
        "    else:\n",
        "        st.warning(\"No objects detected.\")\n",
        "'''\n",
        "\n",
        "with open(\"app.py\", \"w\") as f:\n",
        "    f.write(code)\n"
      ],
      "metadata": {
        "id": "yoJwOt4PfJZt"
      },
      "execution_count": null,
      "outputs": []
    },
    {
      "cell_type": "code",
      "source": [
        "from pyngrok import ngrok\n",
        "import os\n",
        "\n",
        "# Kill any existing tunnels\n",
        "ngrok.kill()\n",
        "\n",
        "# Start Streamlit (runs in background)\n",
        "!streamlit run app.py &> log.txt &\n",
        "\n",
        "# Create HTTP tunnel on port 8501\n",
        "public_url = ngrok.connect(8501, \"http\")\n",
        "print(\"🌐 Streamlit app is live at:\", public_url)\n",
        "\n"
      ],
      "metadata": {
        "id": "O8iWk_-XfT86"
      },
      "execution_count": null,
      "outputs": []
    },
    {
      "cell_type": "code",
      "source": [
        "!ngrok config add-authtoken 30fgGysZyTraDtUvOiuEaPH2IuK_35HiuGsPtqdCewCpNZTsP"
      ],
      "metadata": {
        "id": "fyKAyWxOfmnh"
      },
      "execution_count": null,
      "outputs": []
    }
  ]
}